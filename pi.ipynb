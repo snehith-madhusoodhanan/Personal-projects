{
 "cells": [
  {
   "cell_type": "code",
   "execution_count": null,
   "metadata": {},
   "outputs": [
    {
     "name": "stdout",
     "output_type": "stream",
     "text": [
      "collisions = 3\n",
      "collisions = 31\n",
      "collisions = 314\n",
      "collisions = 3141\n",
      "collisions = 31415\n",
      "collisions = 314159\n",
      "collisions = 3141592\n",
      "collisions = 31415926\n"
     ]
    }
   ],
   "source": [
    "def pi(m1,m2):    \n",
    "    # m1 = 1\n",
    "    # m2 = 1\n",
    "    v1 = 0\n",
    "    v2 = -1\n",
    "    c = 0\n",
    "    def will_collide(v1,v2):\n",
    "        if (v2>0 and v2>=abs(v1)) or (v1==0 and v2==0):\n",
    "            return False\n",
    "        return True\n",
    "    def collide(m1,v1,m2,v2):\n",
    "        if not will_collide(v1,v2):\n",
    "            return ('No more collisions')\n",
    "        v11 = ((m1-m2)*v1+2*m2*v2)/(m1+m2)\n",
    "        v21 = ((m2-m1)*v2+2*m1*v1)/(m1+m2)\n",
    "        return (v11,v21)\n",
    "    def collide_wall(v1):\n",
    "        if v1<0:\n",
    "            return True\n",
    "        return False\n",
    "    while will_collide(v1,v2):\n",
    "        c+=1\n",
    "        v1,v2 = collide(m1,v1,m2,v2)\n",
    "        if collide_wall(v1):\n",
    "            c+=1\n",
    "            v1 = -v1\n",
    "    print('collisions = {}'.format(c))\n",
    "\n",
    "for m2 in [100**i for i in range(9)]:\n",
    "    pi(1,m2)\n",
    "\n"
   ]
  }
 ],
 "metadata": {
  "kernelspec": {
   "display_name": "base",
   "language": "python",
   "name": "python3"
  },
  "language_info": {
   "codemirror_mode": {
    "name": "ipython",
    "version": 3
   },
   "file_extension": ".py",
   "mimetype": "text/x-python",
   "name": "python",
   "nbconvert_exporter": "python",
   "pygments_lexer": "ipython3",
   "version": "3.12.3"
  }
 },
 "nbformat": 4,
 "nbformat_minor": 2
}
